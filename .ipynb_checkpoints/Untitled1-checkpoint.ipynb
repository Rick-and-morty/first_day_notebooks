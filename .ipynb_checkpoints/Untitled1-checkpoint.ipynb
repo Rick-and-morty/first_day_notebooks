{
 "cells": [
  {
   "cell_type": "code",
   "execution_count": null,
   "metadata": {
    "collapsed": false,
    "scrolled": true
   },
   "outputs": [],
   "source": [
    "# pass if palindrome\n",
    "# fail if not palindrome\n",
    "fail = \"racecar\"\n",
    "print(fail[::1])\n",
    "input()\n",
    "if input == input([::-1]):    \n",
    "    print (\"goodjob!\")\n",
    "else:\n",
    "    print (\"bummer!\")\n",
    "if fail == fail[::-1]:\n",
    "    print(\"goodjob!\")\n",
    "else:\n",
    "    print(\"bummer!\")"
   ]
  },
  {
   "cell_type": "code",
   "execution_count": null,
   "metadata": {
    "collapsed": false,
    "scrolled": true
   },
   "outputs": [],
   "source": [
    "funstuff = \"Doc, note, I dissent. A fast never prevents a fatness. I diet on cod\"\n",
    "funstuff = funstuff.replace(\".\", \"\").replace(\",\", \"\")\n",
    "print(funstuff)\n",
    "funstuff = (funstuff[::1])\n",
    "if funstuff == funstuff[::-1]:\n",
    "    print(\"kickingass!\")\n",
    "else:\n",
    "    print(\"keep trying!\")\n",
    "input()\n",
    "if input == (funstuff[::-1])"
   ]
  },
  {
   "cell_type": "code",
   "execution_count": 7,
   "metadata": {
    "collapsed": false
   },
   "outputs": [
    {
     "ename": "SyntaxError",
     "evalue": "invalid syntax (<ipython-input-7-a8d69d87a6b9>, line 2)",
     "output_type": "error",
     "traceback": [
      "\u001b[0;36m  File \u001b[0;32m\"<ipython-input-7-a8d69d87a6b9>\"\u001b[0;36m, line \u001b[0;32m2\u001b[0m\n\u001b[0;31m    if input == input([::-1])\u001b[0m\n\u001b[0m                       ^\u001b[0m\n\u001b[0;31mSyntaxError\u001b[0m\u001b[0;31m:\u001b[0m invalid syntax\n"
     ]
    }
   ],
   "source": [
    "\n",
    "    "
   ]
  },
  {
   "cell_type": "code",
   "execution_count": null,
   "metadata": {
    "collapsed": true
   },
   "outputs": [],
   "source": []
  }
 ],
 "metadata": {
  "kernelspec": {
   "display_name": "Python 3",
   "language": "python",
   "name": "python3"
  },
  "language_info": {
   "codemirror_mode": {
    "name": "ipython",
    "version": 3
   },
   "file_extension": ".py",
   "mimetype": "text/x-python",
   "name": "python",
   "nbconvert_exporter": "python",
   "pygments_lexer": "ipython3",
   "version": "3.5.2"
  }
 },
 "nbformat": 4,
 "nbformat_minor": 1
}
